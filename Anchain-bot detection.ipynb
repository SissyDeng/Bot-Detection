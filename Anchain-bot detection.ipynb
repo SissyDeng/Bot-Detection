{
 "cells": [
  {
   "cell_type": "code",
   "execution_count": 2,
   "metadata": {},
   "outputs": [],
   "source": [
    "import json\n",
    "from datetime import date, datetime, timedelta\n",
    "import pandas as pd\n",
    "import numpy as np    "
   ]
  },
  {
   "cell_type": "code",
   "execution_count": 3,
   "metadata": {},
   "outputs": [],
   "source": [
    "## bot& human \n",
    "bot_account=['edgarwinston','griffinhamza','jacksonjimmy','1ffyqhg4rmbk','powellernest','2rezoaf4bhly','nckj42dit5sb','scottphillip','oepa252sdx4p','myh2o4wayvxg']\n",
    "human_account=['g44dinjygene','onebrother11','rvrkingfishr','iloveyoudapp','huiyong12345','pketothemoon','zhshj1212123','vipgamedice2','dldldldldldl','pkeniubixxxx']"
   ]
  },
  {
   "cell_type": "markdown",
   "metadata": {},
   "source": [
    "# bank data"
   ]
  },
  {
   "cell_type": "raw",
   "metadata": {},
   "source": [
    "## date cleaning\n",
    "\n",
    "\n",
    "## json to csv    edit from file 01 to 31\n",
    "data = []\n",
    "file = open('bank1-20190331.json','r')\n",
    "for line in file.readlines():\n",
    "    data.append(json.loads(line))\n",
    "data1=DataFrame(data)\n",
    "del data1['authorization']\n",
    "\n",
    "## timestamp transformation\n",
    "data1['trx_timestamp']=pd.to_datetime(data1['trx_timestamp'],format='%Y-%m-%d %H:%M:%S',errors='ignore')\n",
    "data1.loc[:,'Year'] = data1['trx_timestamp'].apply(lambda x: x.year)\n",
    "data1.loc[:,'Month'] = data1['trx_timestamp'].apply(lambda x: x.month)\n",
    "data1.loc[:,'Day'] = data1['trx_timestamp'].apply(lambda x: x.day)\n",
    "data1.loc[:,'Hour'] = data1['trx_timestamp'].apply(lambda x: x.hour)\n",
    "##\n",
    "dataset=data1\n",
    "dataset.drop_duplicates();"
   ]
  },
  {
   "cell_type": "code",
   "execution_count": 3,
   "metadata": {},
   "outputs": [
    {
     "name": "stderr",
     "output_type": "stream",
     "text": [
      "C:\\Users\\sissy\\Anaconda3\\lib\\site-packages\\numpy\\lib\\arraysetops.py:569: FutureWarning: elementwise comparison failed; returning scalar instead, but in the future will perform elementwise comparison\n",
      "  mask |= (ar1 == a)\n"
     ]
    },
    {
     "data": {
      "text/html": [
       "<div>\n",
       "<style scoped>\n",
       "    .dataframe tbody tr th:only-of-type {\n",
       "        vertical-align: middle;\n",
       "    }\n",
       "\n",
       "    .dataframe tbody tr th {\n",
       "        vertical-align: top;\n",
       "    }\n",
       "\n",
       "    .dataframe thead th {\n",
       "        text-align: right;\n",
       "    }\n",
       "</style>\n",
       "<table border=\"1\" class=\"dataframe\">\n",
       "  <thead>\n",
       "    <tr style=\"text-align: right;\">\n",
       "      <th></th>\n",
       "      <th>account</th>\n",
       "      <th>name</th>\n",
       "      <th>trx_id</th>\n",
       "      <th>block_num</th>\n",
       "      <th>global_action_seq</th>\n",
       "      <th>account_action_seq</th>\n",
       "      <th>trx_timestamp</th>\n",
       "      <th>trx_timestamp_unix</th>\n",
       "      <th>d_from</th>\n",
       "      <th>d_to</th>\n",
       "      <th>d_quantity</th>\n",
       "      <th>d_memo</th>\n",
       "      <th>d_quantity_unit</th>\n",
       "      <th>dapp_code</th>\n",
       "      <th>Year</th>\n",
       "      <th>Month</th>\n",
       "      <th>Day</th>\n",
       "      <th>Hour</th>\n",
       "    </tr>\n",
       "  </thead>\n",
       "  <tbody>\n",
       "    <tr>\n",
       "      <th>0</th>\n",
       "      <td>eosio.token</td>\n",
       "      <td>transfer</td>\n",
       "      <td>c9e3f3059debe4658375ebf05d8bb0f2bf43c4f85a6f7e...</td>\n",
       "      <td>45232760</td>\n",
       "      <td>5326754578</td>\n",
       "      <td>1284860</td>\n",
       "      <td>2019-03-01 00:00:00.000</td>\n",
       "      <td>1.551398e+09</td>\n",
       "      <td>endlessdicex</td>\n",
       "      <td>endlessbank1</td>\n",
       "      <td>0.0980</td>\n",
       "      <td>bet id:13183921 player: nmslnmslnmsl send to b...</td>\n",
       "      <td>EOS</td>\n",
       "      <td>Endless Dice</td>\n",
       "      <td>2019</td>\n",
       "      <td>3</td>\n",
       "      <td>1</td>\n",
       "      <td>0</td>\n",
       "    </tr>\n",
       "    <tr>\n",
       "      <th>1</th>\n",
       "      <td>eosio.token</td>\n",
       "      <td>transfer</td>\n",
       "      <td>c9e3f3059debe4658375ebf05d8bb0f2bf43c4f85a6f7e...</td>\n",
       "      <td>45232760</td>\n",
       "      <td>5326754586</td>\n",
       "      <td>1284861</td>\n",
       "      <td>2019-03-01 00:00:00.000</td>\n",
       "      <td>1.551398e+09</td>\n",
       "      <td>endlessbank1</td>\n",
       "      <td>nmslnmslnmsl</td>\n",
       "      <td>0.1031</td>\n",
       "      <td>bet id:13183921 player: nmslnmslnmsl winner! -...</td>\n",
       "      <td>EOS</td>\n",
       "      <td>Endless Dice</td>\n",
       "      <td>2019</td>\n",
       "      <td>3</td>\n",
       "      <td>1</td>\n",
       "      <td>0</td>\n",
       "    </tr>\n",
       "    <tr>\n",
       "      <th>2</th>\n",
       "      <td>eosio.token</td>\n",
       "      <td>transfer</td>\n",
       "      <td>2c1d252f63e581e9b7b6b48e4b4102c8ba63edc2bfcf48...</td>\n",
       "      <td>45232766</td>\n",
       "      <td>5326755597</td>\n",
       "      <td>1284862</td>\n",
       "      <td>2019-03-01 00:00:03.000</td>\n",
       "      <td>1.551398e+09</td>\n",
       "      <td>endlessdicex</td>\n",
       "      <td>endlessbank1</td>\n",
       "      <td>0.0980</td>\n",
       "      <td>bet id:13183924 player: justiceariel send to b...</td>\n",
       "      <td>EOS</td>\n",
       "      <td>Endless Dice</td>\n",
       "      <td>2019</td>\n",
       "      <td>3</td>\n",
       "      <td>1</td>\n",
       "      <td>0</td>\n",
       "    </tr>\n",
       "    <tr>\n",
       "      <th>3</th>\n",
       "      <td>eosio.token</td>\n",
       "      <td>transfer</td>\n",
       "      <td>2c1d252f63e581e9b7b6b48e4b4102c8ba63edc2bfcf48...</td>\n",
       "      <td>45232766</td>\n",
       "      <td>5326755605</td>\n",
       "      <td>1284863</td>\n",
       "      <td>2019-03-01 00:00:03.000</td>\n",
       "      <td>1.551398e+09</td>\n",
       "      <td>endlessbank1</td>\n",
       "      <td>justiceariel</td>\n",
       "      <td>0.1031</td>\n",
       "      <td>bet id:13183924 player: justiceariel winner! -...</td>\n",
       "      <td>EOS</td>\n",
       "      <td>Endless Dice</td>\n",
       "      <td>2019</td>\n",
       "      <td>3</td>\n",
       "      <td>1</td>\n",
       "      <td>0</td>\n",
       "    </tr>\n",
       "    <tr>\n",
       "      <th>4</th>\n",
       "      <td>eosio.token</td>\n",
       "      <td>transfer</td>\n",
       "      <td>5cf5b70c5423ad233d225471fd0aeaa987d7f2118ec1bc...</td>\n",
       "      <td>45232776</td>\n",
       "      <td>5326758039</td>\n",
       "      <td>1284864</td>\n",
       "      <td>2019-03-01 00:00:08.000</td>\n",
       "      <td>1.551398e+09</td>\n",
       "      <td>endlessdicex</td>\n",
       "      <td>endlessbank1</td>\n",
       "      <td>0.0980</td>\n",
       "      <td>bet id:13183927 player: edgarwinston send to b...</td>\n",
       "      <td>EOS</td>\n",
       "      <td>Endless Dice</td>\n",
       "      <td>2019</td>\n",
       "      <td>3</td>\n",
       "      <td>1</td>\n",
       "      <td>0</td>\n",
       "    </tr>\n",
       "  </tbody>\n",
       "</table>\n",
       "</div>"
      ],
      "text/plain": [
       "       account      name                                             trx_id  \\\n",
       "0  eosio.token  transfer  c9e3f3059debe4658375ebf05d8bb0f2bf43c4f85a6f7e...   \n",
       "1  eosio.token  transfer  c9e3f3059debe4658375ebf05d8bb0f2bf43c4f85a6f7e...   \n",
       "2  eosio.token  transfer  2c1d252f63e581e9b7b6b48e4b4102c8ba63edc2bfcf48...   \n",
       "3  eosio.token  transfer  2c1d252f63e581e9b7b6b48e4b4102c8ba63edc2bfcf48...   \n",
       "4  eosio.token  transfer  5cf5b70c5423ad233d225471fd0aeaa987d7f2118ec1bc...   \n",
       "\n",
       "   block_num  global_action_seq  account_action_seq            trx_timestamp  \\\n",
       "0   45232760         5326754578             1284860  2019-03-01 00:00:00.000   \n",
       "1   45232760         5326754586             1284861  2019-03-01 00:00:00.000   \n",
       "2   45232766         5326755597             1284862  2019-03-01 00:00:03.000   \n",
       "3   45232766         5326755605             1284863  2019-03-01 00:00:03.000   \n",
       "4   45232776         5326758039             1284864  2019-03-01 00:00:08.000   \n",
       "\n",
       "   trx_timestamp_unix        d_from          d_to  d_quantity  \\\n",
       "0        1.551398e+09  endlessdicex  endlessbank1      0.0980   \n",
       "1        1.551398e+09  endlessbank1  nmslnmslnmsl      0.1031   \n",
       "2        1.551398e+09  endlessdicex  endlessbank1      0.0980   \n",
       "3        1.551398e+09  endlessbank1  justiceariel      0.1031   \n",
       "4        1.551398e+09  endlessdicex  endlessbank1      0.0980   \n",
       "\n",
       "                                              d_memo d_quantity_unit  \\\n",
       "0  bet id:13183921 player: nmslnmslnmsl send to b...             EOS   \n",
       "1  bet id:13183921 player: nmslnmslnmsl winner! -...             EOS   \n",
       "2  bet id:13183924 player: justiceariel send to b...             EOS   \n",
       "3  bet id:13183924 player: justiceariel winner! -...             EOS   \n",
       "4  bet id:13183927 player: edgarwinston send to b...             EOS   \n",
       "\n",
       "      dapp_code  Year  Month  Day  Hour  \n",
       "0  Endless Dice  2019      3    1     0  \n",
       "1  Endless Dice  2019      3    1     0  \n",
       "2  Endless Dice  2019      3    1     0  \n",
       "3  Endless Dice  2019      3    1     0  \n",
       "4  Endless Dice  2019      3    1     0  "
      ]
     },
     "execution_count": 3,
     "metadata": {},
     "output_type": "execute_result"
    }
   ],
   "source": [
    "## open file\n",
    "dataset=pd.read_csv('bank_data.csv',index_col=0)\n",
    "dataset.head()"
   ]
  },
  {
   "cell_type": "code",
   "execution_count": 4,
   "metadata": {},
   "outputs": [
    {
     "data": {
      "text/plain": [
       "False    1857052\n",
       "Name: d_from, dtype: int64"
      ]
     },
     "execution_count": 4,
     "metadata": {},
     "output_type": "execute_result"
    }
   ],
   "source": [
    "dataset['d_from'].isnull().value_counts()\n",
    "#dataset['d_from'][dataset['d_from'].apply(lambda x: type(x)==float)]"
   ]
  },
  {
   "cell_type": "code",
   "execution_count": 5,
   "metadata": {},
   "outputs": [],
   "source": [
    "dataset.dropna(axis=0,how='any',inplace=True)"
   ]
  },
  {
   "cell_type": "code",
   "execution_count": 6,
   "metadata": {},
   "outputs": [
    {
     "data": {
      "text/plain": [
       "array(['airdropsdac1', 'endlessbank1', 'endlesscrash', 'endlessdicex',\n",
       "       'eosers.x', 'eosluckcoin1', 'erostoken111', 'guma3debacue',\n",
       "       'hashbabycom2', 'msulrhvdinkp', 'ooppoopppp23', 'playeronetkn',\n",
       "       'seabattlemem', 'timeforestad', 'welcomeguys1'], dtype=object)"
      ]
     },
     "execution_count": 6,
     "metadata": {},
     "output_type": "execute_result"
    }
   ],
   "source": [
    "np.unique(dataset.d_from)"
   ]
  },
  {
   "cell_type": "code",
   "execution_count": 7,
   "metadata": {},
   "outputs": [
    {
     "name": "stdout",
     "output_type": "stream",
     "text": [
      "[]\n",
      "[]\n"
     ]
    }
   ],
   "source": [
    "print(np.intersect1d(np.unique(dataset.d_from),bot_account))\n",
    "print(np.intersect1d(np.unique(dataset.d_from),human_account))"
   ]
  },
  {
   "cell_type": "code",
   "execution_count": 8,
   "metadata": {},
   "outputs": [
    {
     "data": {
      "text/html": [
       "<div>\n",
       "<style scoped>\n",
       "    .dataframe tbody tr th:only-of-type {\n",
       "        vertical-align: middle;\n",
       "    }\n",
       "\n",
       "    .dataframe tbody tr th {\n",
       "        vertical-align: top;\n",
       "    }\n",
       "\n",
       "    .dataframe thead th {\n",
       "        text-align: right;\n",
       "    }\n",
       "</style>\n",
       "<table border=\"1\" class=\"dataframe\">\n",
       "  <thead>\n",
       "    <tr style=\"text-align: right;\">\n",
       "      <th></th>\n",
       "      <th>account</th>\n",
       "      <th>name</th>\n",
       "      <th>trx_id</th>\n",
       "      <th>block_num</th>\n",
       "      <th>global_action_seq</th>\n",
       "      <th>account_action_seq</th>\n",
       "      <th>trx_timestamp</th>\n",
       "      <th>trx_timestamp_unix</th>\n",
       "      <th>d_from</th>\n",
       "      <th>d_to</th>\n",
       "      <th>d_quantity</th>\n",
       "      <th>d_memo</th>\n",
       "      <th>d_quantity_unit</th>\n",
       "      <th>dapp_code</th>\n",
       "      <th>Year</th>\n",
       "      <th>Month</th>\n",
       "      <th>Day</th>\n",
       "      <th>Hour</th>\n",
       "    </tr>\n",
       "  </thead>\n",
       "  <tbody>\n",
       "  </tbody>\n",
       "</table>\n",
       "</div>"
      ],
      "text/plain": [
       "Empty DataFrame\n",
       "Columns: [account, name, trx_id, block_num, global_action_seq, account_action_seq, trx_timestamp, trx_timestamp_unix, d_from, d_to, d_quantity, d_memo, d_quantity_unit, dapp_code, Year, Month, Day, Hour]\n",
       "Index: []"
      ]
     },
     "execution_count": 8,
     "metadata": {},
     "output_type": "execute_result"
    }
   ],
   "source": [
    "# filter\n",
    "dataset[dataset.d_from.isin(human_account)|dataset.d_from.isin(bot_account)]"
   ]
  },
  {
   "cell_type": "markdown",
   "metadata": {},
   "source": [
    "# dicex"
   ]
  },
  {
   "cell_type": "raw",
   "metadata": {},
   "source": [
    "#dicex_data = []\n",
    "file = open('dicex-20190331.json','r')\n",
    "for line in file.readlines():\n",
    "    dicex_data.append(json.loads(line))\n",
    "#dicex_data=DataFrame(dicex_data)\n",
    "\n",
    "dicex_dataset=pd.DataFrame(dicex_data)\n",
    "del dicex_dataset['authorization']\n",
    "dicex_dataset.drop_duplicates();\n",
    "dicex_dataset.shape  ##[3048296, 16]\n",
    "\n",
    "## timestamp transformation\n",
    "dicex_dataset['trx_timestamp']=pd.to_datetime(dicex_dataset['trx_timestamp'],format='%Y-%m-%d %H:%M:%S',errors='ignore')\n",
    "dicex_dataset.loc[:,'Year'] = dicex_dataset['trx_timestamp'].apply(lambda x: x.year)\n",
    "dicex_dataset.loc[:,'Month'] = dicex_dataset['trx_timestamp'].apply(lambda x: x.month)\n",
    "dicex_dataset.loc[:,'Day'] = dicex_dataset['trx_timestamp'].apply(lambda x: x.day)\n",
    "dicex_dataset.loc[:,'Hour'] = dicex_dataset['trx_timestamp'].apply(lambda x: x.hour)\n",
    "\n",
    "##write\n",
    "dicex_dataset.to_csv('dicex_data.csv')"
   ]
  },
  {
   "cell_type": "code",
   "execution_count": 4,
   "metadata": {},
   "outputs": [
    {
     "name": "stderr",
     "output_type": "stream",
     "text": [
      "C:\\Users\\sissy\\Anaconda3\\lib\\site-packages\\IPython\\core\\interactiveshell.py:3057: DtypeWarning: Columns (15) have mixed types. Specify dtype option on import or set low_memory=False.\n",
      "  interactivity=interactivity, compiler=compiler, result=result)\n",
      "C:\\Users\\sissy\\Anaconda3\\lib\\site-packages\\numpy\\lib\\arraysetops.py:569: FutureWarning: elementwise comparison failed; returning scalar instead, but in the future will perform elementwise comparison\n",
      "  mask |= (ar1 == a)\n"
     ]
    }
   ],
   "source": [
    "# dicex_dataset=pd.read_csv('dicex_data.csv',index_col=0)\n",
    "# del dicex_dataset['data']\n",
    "# dicex_dataset.dropna(axis=0,how='any',inplace=True)\n",
    "# dicex_dataset.head()\n",
    "# dicex_dataset.to_csv('dicex_data_new.csv')\n",
    "dicex_dataset=pd.read_csv('dicex_data_new.csv',index_col=0)"
   ]
  },
  {
   "cell_type": "code",
   "execution_count": 5,
   "metadata": {},
   "outputs": [
    {
     "name": "stdout",
     "output_type": "stream",
     "text": [
      "['1ffyqhg4rmbk', 'edgarwinston', 'griffinhamza', 'nckj42dit5sb']\n",
      "[]\n"
     ]
    }
   ],
   "source": [
    "bot_account_new = list(np.unique(dicex_dataset[dicex_dataset.d_from.isin(bot_account)]['d_from']))\n",
    "human_account_new = list(np.unique(dicex_dataset[dicex_dataset.d_from.isin(human_account)]['d_from']))\n",
    "print(bot_account_new)\n",
    "print(human_account_new)"
   ]
  },
  {
   "cell_type": "code",
   "execution_count": 6,
   "metadata": {
    "scrolled": true
   },
   "outputs": [
    {
     "data": {
      "text/plain": [
       "array(['12345dancing', '12345haoming', '12345wszyxxx', ...,\n",
       "       'zuboxrwlypgg', 'zzxzzxzzxzzx', 'zzzssszzz321'], dtype=object)"
      ]
     },
     "execution_count": 6,
     "metadata": {},
     "output_type": "execute_result"
    }
   ],
   "source": [
    "np.unique(dicex_dataset.d_from)"
   ]
  },
  {
   "cell_type": "code",
   "execution_count": 7,
   "metadata": {},
   "outputs": [
    {
     "data": {
      "text/plain": [
       "['1ffyqhg4rmbk',\n",
       " 'edgarwinston',\n",
       " 'griffinhamza',\n",
       " 'nckj42dit5sb',\n",
       " 'zzxzzxzzxzzx',\n",
       " '15i1b2v332gv',\n",
       " '1af4gv2nrpw5',\n",
       " '1aisuion2gdh',\n",
       " '1dcrypjazjnf',\n",
       " '1ddqngdbudf4',\n",
       " '1g2af1avccow']"
      ]
     },
     "execution_count": 7,
     "metadata": {},
     "output_type": "execute_result"
    }
   ],
   "source": [
    "bot_account_new.extend(['zzxzzxzzxzzx','15i1b2v332gv','1af4gv2nrpw5','1aisuion2gdh','1dcrypjazjnf','1ddqngdbudf4','1g2af1avccow'])\n",
    "bot_account_new"
   ]
  },
  {
   "cell_type": "code",
   "execution_count": 8,
   "metadata": {},
   "outputs": [
    {
     "data": {
      "text/plain": [
       "['12345dancing',\n",
       " '1234luckyone',\n",
       " '14wkee4teosd',\n",
       " '1eosbeginner',\n",
       " '1polyculture',\n",
       " 'zhangguohua1',\n",
       " 'zengpaul1234',\n",
       " 'yy3mjik3maga',\n",
       " '321goddog123']"
      ]
     },
     "execution_count": 8,
     "metadata": {},
     "output_type": "execute_result"
    }
   ],
   "source": [
    "human_account_new.extend(['12345dancing','1234luckyone','14wkee4teosd','1eosbeginner','1polyculture','zhangguohua1','zengpaul1234','yy3mjik3maga','321goddog123'])\n",
    "human_account_new"
   ]
  },
  {
   "cell_type": "code",
   "execution_count": 11,
   "metadata": {
    "scrolled": false
   },
   "outputs": [
    {
     "data": {
      "image/png": "[encoded data removed]",
      "text/plain": [
       "<Figure size 432x288 with 2 Axes>"
      ]
     },
     "metadata": {
      "needs_background": "light"
     },
     "output_type": "display_data"
    },
    {
     "data": {
      "image/png": "[encoded data removed]",
      "text/plain": [
       "<Figure size 432x288 with 2 Axes>"
      ]
     },
     "metadata": {
      "needs_background": "light"
     },
     "output_type": "display_data"
    },
    {
     "data": {
      "image/png": "[encoded data removed]",
      "text/plain": [
       "<Figure size 432x288 with 2 Axes>"
      ]
     },
     "metadata": {
      "needs_background": "light"
     },
     "output_type": "display_data"
    },
    {
     "data": {
      "image/png": "[encoded data removed]",
      "text/plain": [
       "<Figure size 432x288 with 2 Axes>"
      ]
     },
     "metadata": {
      "needs_background": "light"
     },
     "output_type": "display_data"
    },
    {
     "data": {
      "image/png": "[encoded data removed]",
      "text/plain": [
       "<Figure size 432x288 with 2 Axes>"
      ]
     },
     "metadata": {
      "needs_background": "light"
     },
     "output_type": "display_data"
    },
    {
     "data": {
      "image/png": "[encoded data removed]",
      "text/plain": [
       "<Figure size 432x288 with 2 Axes>"
      ]
     },
     "metadata": {
      "needs_background": "light"
     },
     "output_type": "display_data"
    },
    {
     "data": {
      "image/png": "[encoded data removed]",
      "text/plain": [
       "<Figure size 432x288 with 2 Axes>"
      ]
     },
     "metadata": {
      "needs_background": "light"
     },
     "output_type": "display_data"
    },
    {
     "data": {
      "image/png": "[encoded data removed]",
      "text/plain": [
       "<Figure size 432x288 with 2 Axes>"
      ]
     },
     "metadata": {
      "needs_background": "light"
     },
     "output_type": "display_data"
    },
    {
     "data": {
      "image/png": "[encoded data removed]",
      "text/plain": [
       "<Figure size 432x288 with 2 Axes>"
      ]
     },
     "metadata": {
      "needs_background": "light"
     },
     "output_type": "display_data"
    }
   ],
   "source": [
    "import matplotlib.pyplot as plt\n",
    "import seaborn as sns\n",
    "for x in human_account_new: #bot_account_new:\n",
    "    df = dicex_dataset[dicex_dataset['d_from']==x]\n",
    "    df2 = df.groupby(['Day','Hour']).count()['trx_id'].reset_index()\n",
    "    df3 = df2.pivot(index='Hour',columns='Day',values='trx_id')\n",
    "    sns.heatmap(df3,linewidths = .05, cmap='OrRd')\n",
    "    plt.title(x)\n",
    "    plt.show()"
   ]
  },
  {
   "cell_type": "code",
   "execution_count": 12,
   "metadata": {
    "scrolled": false
   },
   "outputs": [
    {
     "data": {
      "image/png": "[encoded data removed]",
      "text/plain": [
       "<Figure size 432x288 with 2 Axes>"
      ]
     },
     "metadata": {
      "needs_background": "light"
     },
     "output_type": "display_data"
    },
    {
     "data": {
      "image/png": "[encoded data removed]",
      "text/plain": [
       "<Figure size 432x288 with 2 Axes>"
      ]
     },
     "metadata": {
      "needs_background": "light"
     },
     "output_type": "display_data"
    },
    {
     "data": {
      "image/png": "[encoded data removed]",
      "text/plain": [
       "<Figure size 432x288 with 2 Axes>"
      ]
     },
     "metadata": {
      "needs_background": "light"
     },
     "output_type": "display_data"
    },
    {
     "data": {
      "image/png": "[encoded data removed]",
      "text/plain": [
       "<Figure size 432x288 with 2 Axes>"
      ]
     },
     "metadata": {
      "needs_background": "light"
     },
     "output_type": "display_data"
    },
    {
     "data": {
      "image/png": "[encoded data removed]",
      "text/plain": [
       "<Figure size 432x288 with 2 Axes>"
      ]
     },
     "metadata": {
      "needs_background": "light"
     },
     "output_type": "display_data"
    },
    {
     "data": {
      "image/png": "[encoded data removed]",
      "text/plain": [
       "<Figure size 432x288 with 2 Axes>"
      ]
     },
     "metadata": {
      "needs_background": "light"
     },
     "output_type": "display_data"
    },
    {
     "data": {
      "image/png": "[encoded data removed]",
      "text/plain": [
       "<Figure size 432x288 with 2 Axes>"
      ]
     },
     "metadata": {
      "needs_background": "light"
     },
     "output_type": "display_data"
    },
    {
     "data": {
      "image/png": "[encoded data removed]",
      "text/plain": [
       "<Figure size 432x288 with 2 Axes>"
      ]
     },
     "metadata": {
      "needs_background": "light"
     },
     "output_type": "display_data"
    },
    {
     "data": {
      "image/png": "[encoded data removed]",
      "text/plain": [
       "<Figure size 432x288 with 2 Axes>"
      ]
     },
     "metadata": {
      "needs_background": "light"
     },
     "output_type": "display_data"
    },
    {
     "data": {
      "image/png": "[encoded data removed]",
      "text/plain": [
       "<Figure size 432x288 with 2 Axes>"
      ]
     },
     "metadata": {
      "needs_background": "light"
     },
     "output_type": "display_data"
    },
    {
     "data": {
      "image/png": "[encoded data removed]",
      "text/plain": [
       "<Figure size 432x288 with 2 Axes>"
      ]
     },
     "metadata": {
      "needs_background": "light"
     },
     "output_type": "display_data"
    }
   ],
   "source": [
    "for x in bot_account_new:\n",
    "    df = dicex_dataset[dicex_dataset['d_from']==x]\n",
    "    df2 = df.groupby(['Day','Hour']).count()['trx_id'].reset_index()\n",
    "    df3 = df2.pivot(index='Hour',columns='Day',values='trx_id')\n",
    "    sns.heatmap(df3,linewidths = .05, cmap='OrRd')\n",
    "    plt.title(x)\n",
    "    plt.show()"
   ]
  },
  {
   "cell_type": "code",
   "execution_count": 393,
   "metadata": {
    "scrolled": true
   },
   "outputs": [],
   "source": [
    "#filter\n",
    "dicex_feature = dicex_dataset[dicex_dataset.d_from.isin(bot_account_new)| dicex_dataset.d_from.isin(human_account_new)].reset_index(drop=True)"
   ]
  },
  {
   "cell_type": "code",
   "execution_count": 394,
   "metadata": {},
   "outputs": [],
   "source": [
    "#drop useless columns\n",
    "dicex_feature.drop(['name','trx_id','global_action_seq','trx_timestamp_unix','block_num','account_action_seq','d_memo'],axis=1,inplace=True)\n",
    "#dicex_feature.head()"
   ]
  },
  {
   "cell_type": "code",
   "execution_count": 173,
   "metadata": {},
   "outputs": [],
   "source": [
    "dicex = pd.DataFrame() # dicex is our final data set"
   ]
  },
  {
   "cell_type": "code",
   "execution_count": 547,
   "metadata": {},
   "outputs": [],
   "source": [
    "# add feature: num_account_type\n",
    "df = dicex_feature.groupby(['d_from','account']).count()['trx_timestamp'].reset_index().pivot('d_from','account','trx_timestamp').isna()\n",
    "for type in np.unique(dicex_feature.account):\n",
    "    df[type] = df[type].apply(lambda x: 0 if x is True else 1)\n",
    "df['num_account'] = df.apply(lambda x: x.sum(), axis=1)\n",
    "dicex.index = df.index\n",
    "dicex['num_account_type'] = list(df['num_account'])"
   ]
  },
  {
   "cell_type": "code",
   "execution_count": 179,
   "metadata": {},
   "outputs": [],
   "source": [
    "# add feature: num_d_unit\n",
    "df = dicex_feature.groupby(['d_from','d_quantity_unit']).count()['trx_timestamp'].reset_index().pivot('d_from','d_quantity_unit','trx_timestamp').isna()\n",
    "for type in np.unique(dicex_feature.d_quantity_unit):\n",
    "    df[type] = df[type].apply(lambda x: 0 if x is True else 1)\n",
    "df['num_d_unit'] = df.apply(lambda x: x.sum(), axis=1)\n",
    "dicex['num_d_unit'] = list(df['num_d_unit'])"
   ]
  },
  {
   "cell_type": "code",
   "execution_count": 337,
   "metadata": {},
   "outputs": [],
   "source": [
    "# add feature: type_d_to\n",
    "df = dicex_feature.groupby(['d_from','d_to']).count()['trx_timestamp'].reset_index().pivot('d_from','d_to','trx_timestamp').isna()\n",
    "for type in np.unique(dicex_feature.d_to):\n",
    "    df[type] = df[type].apply(lambda x: 0 if x is True else 1)\n",
    "df['type_d_to'] = df.apply(lambda x: x.sum(), axis=1)\n",
    "dicex['type_d_to'] = list(df['type_d_to'])"
   ]
  },
  {
   "cell_type": "code",
   "execution_count": 266,
   "metadata": {},
   "outputs": [],
   "source": [
    "# add feature: Quantity_variance\n",
    "df = dicex_feature.groupby(['d_from','Day']).sum()['d_quantity'].reset_index().groupby('d_from').agg({'d_quantity':np.var})\n",
    "dicex['quantity_variance'] = list(df['d_quantity'].apply(lambda x: 0 if np.isnan(x) else x))"
   ]
  },
  {
   "cell_type": "code",
   "execution_count": 273,
   "metadata": {},
   "outputs": [],
   "source": [
    "# add feature: Frequency_variance\n",
    "df = dicex_feature.groupby(['d_from','Day']).count()['trx_timestamp'].reset_index().groupby('d_from').agg({'trx_timestamp':np.var})\n",
    "dicex['frequency_variance'] = list(df['trx_timestamp'].apply(lambda x: 0 if np.isnan(x) else x))"
   ]
  },
  {
   "cell_type": "code",
   "execution_count": 459,
   "metadata": {},
   "outputs": [],
   "source": [
    "# add feature: Time_interval_rate: 100 * reciprocal of min interval between two transaction\n",
    "def find_max_interval(data):\n",
    "    interval = []\n",
    "    for i in range(len(data)-1):\n",
    "        d = abs(data[i]-data[i+1])\n",
    "        interval.append(d)\n",
    "    return min(interval)\n",
    "\n",
    "interval = []\n",
    "for x in np.unique(dicex_feature.d_from):\n",
    "    df = dicex_feature[dicex_feature.d_from==x].sort_values(by='trx_timestamp',ascending=False)['trx_timestamp'].apply(lambda x: datetime.strptime(x, \"%Y-%m-%d %H:%M:%S.%f\")).reset_index(drop=True)\n",
    "    interval.append(100/find_max_interval(df).total_seconds())\n",
    "dicex['Time_interval_rate'] = interval"
   ]
  },
  {
   "cell_type": "code",
   "execution_count": 380,
   "metadata": {},
   "outputs": [],
   "source": [
    "# add feature:   Activity_day(how many days each account is active for transactions in one month count/set/day)\n",
    "# dicex_feature.groupby('d_from')['Day'].unique().reset_index() \n",
    "df=dicex_feature.groupby('d_from')['Day'].nunique().reset_index() \n",
    "dicex['activity_day'] = df['Day']"
   ]
  },
  {
   "cell_type": "code",
   "execution_count": 381,
   "metadata": {},
   "outputs": [],
   "source": [
    "# add feature:  Active_hour(how many hours each account is active for transactions per day)\n",
    "df=dicex_feature.groupby(['d_from','Day'])['Hour'].nunique().reset_index() \n",
    "df1=df.groupby(\"d_from\")['Hour'].mean().reset_index() \n",
    "dicex['activity_hour'] = df1['Hour']"
   ]
  },
  {
   "cell_type": "code",
   "execution_count": 382,
   "metadata": {},
   "outputs": [],
   "source": [
    "# add feature: Max_Active_hour(how many hours each account is active for transactions in unit period)\n",
    "df=dicex_feature.groupby(['d_from','Day'])['Hour'].nunique().reset_index() \n",
    "df1=df.groupby(\"d_from\")['Hour'].max().reset_index() \n",
    "dicex['max_active_hour'] = df1['Hour']"
   ]
  },
  {
   "cell_type": "code",
   "execution_count": 389,
   "metadata": {},
   "outputs": [],
   "source": [
    "# add feature: Transaction level (total number orders for each customer count)\n",
    "df=dicex_feature.groupby('d_from')['trx_timestamp'].count().reset_index() \n",
    "dicex['transaction_level'] = df['trx_timestamp']"
   ]
  },
  {
   "cell_type": "code",
   "execution_count": 478,
   "metadata": {},
   "outputs": [
    {
     "name": "stderr",
     "output_type": "stream",
     "text": [
      "C:\\Users\\sissy\\Anaconda3\\lib\\site-packages\\ipykernel_launcher.py:16: UserWarning: Boolean Series key will be reindexed to match DataFrame index.\n",
      "  app.launch_new_instance()\n"
     ]
    }
   ],
   "source": [
    "# add feature: Active_hour_len\n",
    "def continuous_hours(data):\n",
    "    length = 1\n",
    "    for i in range(len(data)-1):\n",
    "        if data[i+1] == (data[i]+1):\n",
    "            length += 1\n",
    "        else:\n",
    "            break\n",
    "    return length\n",
    "\n",
    "avg_hour_len = []\n",
    "for x in np.unique(dicex_feature.d_from):\n",
    "    time_len = []\n",
    "    df = dicex_feature[dicex_feature.d_from==x]\n",
    "    for y in np.unique(df.Day):\n",
    "        hour = np.unique(df[dicex_feature.Day==y]['Hour'].reset_index(drop=True))\n",
    "        time_len.append(continuous_hours(hour))\n",
    "    avg_hour_len.append(np.mean(time_len))\n",
    "dicex['Active_hour_len'] = avg_hour_len"
   ]
  },
  {
   "cell_type": "code",
   "execution_count": 480,
   "metadata": {},
   "outputs": [
    {
     "name": "stderr",
     "output_type": "stream",
     "text": [
      "C:\\Users\\sissy\\Anaconda3\\lib\\site-packages\\ipykernel_launcher.py:7: UserWarning: Boolean Series key will be reindexed to match DataFrame index.\n",
      "  import sys\n"
     ]
    }
   ],
   "source": [
    "# add feature: Max_Active_hour_len\n",
    "max_hour_len = []\n",
    "for x in np.unique(dicex_feature.d_from):\n",
    "    time_len = []\n",
    "    df = dicex_feature[dicex_feature.d_from==x]\n",
    "    for y in np.unique(df.Day):\n",
    "        hour = np.unique(df[dicex_feature.Day==y]['Hour'].reset_index(drop=True))\n",
    "        time_len.append(continuous_hours(hour))\n",
    "    max_hour_len.append(max(time_len))\n",
    "dicex['Max_hour_len'] = max_hour_len"
   ]
  },
  {
   "cell_type": "code",
   "execution_count": 493,
   "metadata": {},
   "outputs": [],
   "source": [
    "#add label\n",
    "dicex['label'] = dicex['user'].apply(lambda x: 1 if x in bot_account_new else 0)"
   ]
  },
  {
   "cell_type": "code",
   "execution_count": 546,
   "metadata": {},
   "outputs": [],
   "source": [
    "# save data\n",
    "dicex.to_csv('dicex_cleaned_mini.csv')"
   ]
  },
  {
   "cell_type": "markdown",
   "metadata": {},
   "source": [
    "## model"
   ]
  },
  {
   "cell_type": "code",
   "execution_count": 565,
   "metadata": {},
   "outputs": [
    {
     "name": "stdout",
     "output_type": "stream",
     "text": [
      "logreg training acuracy=  0.8461538461538461\n",
      "logreg test acuracy=  0.7142857142857143\n"
     ]
    },
    {
     "name": "stderr",
     "output_type": "stream",
     "text": [
      "C:\\Users\\sissy\\Anaconda3\\lib\\site-packages\\sklearn\\linear_model\\logistic.py:432: FutureWarning: Default solver will be changed to 'lbfgs' in 0.22. Specify a solver to silence this warning.\n",
      "  FutureWarning)\n"
     ]
    }
   ],
   "source": [
    "from resample import bootstrap\n",
    "from sklearn.metrics import confusion_matrix\n",
    "from sklearn.linear_model import LogisticRegression\n",
    "from sklearn.model_selection import train_test_split\n",
    "from sklearn.ensemble import RandomForestClassifier\n",
    "from sklearn.ensemble import AdaBoostClassifier\n",
    "\n",
    "# Logistic Regression\n",
    "X = dicex.drop('label',axis=1)\n",
    "y = dicex['label']\n",
    "X_train, X_test, y_train, y_test = train_test_split(X, y, test_size=0.33)\n",
    "logreg = LogisticRegression()\n",
    "logreg.fit(X_train,y_train)\n",
    "print('logreg training acuracy= ',logreg.score(X_train,y_train))\n",
    "print('logreg test acuracy= ',logreg.score(X_test,y_test))"
   ]
  },
  {
   "cell_type": "code",
   "execution_count": 576,
   "metadata": {},
   "outputs": [
    {
     "name": "stdout",
     "output_type": "stream",
     "text": [
      "adaboost training acuracy=  1.0\n",
      "adaboost test accuracy=  0.7142857142857143\n"
     ]
    }
   ],
   "source": [
    "# Adaboost\n",
    "\n",
    "adaboost = AdaBoostClassifier()\n",
    "adaboost.fit(X_train,y_train)\n",
    "adaboost_train_acc = adaboost.score(X_train,y_train)\n",
    "adaboost_test_acc = adaboost.score(X_test,y_test)\n",
    "print ('adaboost training acuracy= ',adaboost_train_acc)\n",
    "print('adaboost test accuracy= ',adaboost_test_acc)"
   ]
  },
  {
   "cell_type": "code",
   "execution_count": 571,
   "metadata": {},
   "outputs": [
    {
     "name": "stdout",
     "output_type": "stream",
     "text": [
      "random_forest training acuracy=  1.0\n",
      "random_forest test accuracy=  0.8571428571428571\n"
     ]
    }
   ],
   "source": [
    "# Random Forest\n",
    "\n",
    "random_forest = RandomForestClassifier(n_estimators = 10)\n",
    "random_forest.fit(X_train,y_train)\n",
    "random_forest_train_acc = random_forest.score(X_train,y_train)\n",
    "random_forest_test_acc = random_forest.score(X_test,y_test)\n",
    "print('random_forest training acuracy= ',random_forest_train_acc)\n",
    "print('random_forest test accuracy= ',random_forest_test_acc)"
   ]
  }
 ],
 "metadata": {
  "kernelspec": {
   "display_name": "Python 3",
   "language": "python",
   "name": "python3"
  },
  "language_info": {
   "codemirror_mode": {
    "name": "ipython",
    "version": 3
   },
   "file_extension": ".py",
   "mimetype": "text/x-python",
   "name": "python",
   "nbconvert_exporter": "python",
   "pygments_lexer": "ipython3",
   "version": "3.7.3"
  }
 },
 "nbformat": 4,
 "nbformat_minor": 2
}
